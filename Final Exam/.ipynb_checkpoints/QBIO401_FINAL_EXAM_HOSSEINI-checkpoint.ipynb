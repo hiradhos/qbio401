{
 "cells": [
  {
   "cell_type": "markdown",
   "id": "b32e8617",
   "metadata": {},
   "source": [
    "# QBIO 401 Final Exam\n",
    "## Hirad Hosseini, Fall 2023"
   ]
  },
  {
   "cell_type": "markdown",
   "id": "7eca87dc",
   "metadata": {},
   "source": [
    "## Problem 1"
   ]
  },
  {
   "cell_type": "markdown",
   "id": "03caa746",
   "metadata": {},
   "source": [
    "**(15 pts) The statement of this problem includes some background on restriction\n",
    "enzymes and gel electrophoresis. Be sure to answer parts (a) – (f).\n",
    "Attached to this assignment are two files with coronavirus variant sequences in the\n",
    "FASTA format: “omicron.fasta” and “delta.fasta.” Use the loadFASTA function from\n",
    "“lecture2functions.py” (this file is also attached to this assignment) to get the sequence\n",
    "data in these files.**\n",
    "\n",
    "**(a) (1 pt) How long (in base pairs) is the sequence in the “omicron.fasta” file? How long\n",
    "(in base pairs) is the sequence in the “delta.fasta” file?**"
   ]
  },
  {
   "cell_type": "code",
   "execution_count": 1,
   "id": "ed1fa625",
   "metadata": {},
   "outputs": [],
   "source": [
    "from lecture2functions import loadFASTA"
   ]
  },
  {
   "cell_type": "code",
   "execution_count": 2,
   "id": "d42d6a58",
   "metadata": {},
   "outputs": [
    {
     "name": "stdout",
     "output_type": "stream",
     "text": [
      "29784\n"
     ]
    }
   ],
   "source": [
    "om_seq = loadFASTA('omicron(1).fasta')\n",
    "print(len(om_seq))"
   ]
  },
  {
   "cell_type": "code",
   "execution_count": 3,
   "id": "781075a1",
   "metadata": {},
   "outputs": [
    {
     "name": "stdout",
     "output_type": "stream",
     "text": [
      "29836\n"
     ]
    }
   ],
   "source": [
    "del_seq = loadFASTA('delta(1).fasta')\n",
    "print(len(del_seq))"
   ]
  },
  {
   "cell_type": "markdown",
   "id": "5b7f74b0",
   "metadata": {},
   "source": [
    "**(b) (6 pts) Write a function (or functions) that will take as input both a sequence and\n",
    "one target from the “enzymelist.csv” file and will output the number of copies of\n",
    "that target in the sequence.**\n",
    "\n",
    "**I want to emphasize that the function should take the target directly from the\n",
    "“enzymelist.csv” file without you making any alterations by hand. Though the file\n",
    "has only nine restriction enzymes, the same function should work if the enzyme list\n",
    "had thousands of restriction enzymes (and you wouldn’t want to be making manual\n",
    "alterations with such a long list).**"
   ]
  },
  {
   "cell_type": "code",
   "execution_count": 4,
   "id": "a4102d2d",
   "metadata": {},
   "outputs": [],
   "source": [
    "import pandas as pd"
   ]
  },
  {
   "cell_type": "code",
   "execution_count": 5,
   "id": "ff23f65d",
   "metadata": {},
   "outputs": [],
   "source": [
    "def RestrictionSites(seq: str, target: str) -> int:\n",
    "    sites_cnt = 0\n",
    "    for i in range(len(seq)- len(target) + 1):\n",
    "        if seq[i:i+len(target)] == target:\n",
    "            sites_cnt += 1\n",
    "    return sites_cnt"
   ]
  },
  {
   "cell_type": "markdown",
   "id": "cbb698c6",
   "metadata": {},
   "source": [
    "**(c) (2 pts) Separately for each target in the “enzymelist.csv” file, use the function you\n",
    "wrote in part (b) to compute how many copies of that target are in the omicron\n",
    "sequence. (You should compute nine numbers, one for each restriction enzyme\n",
    "target.)**\n",
    "\n",
    "**I want to emphasize that throughout problem #1, we are considering restriction\n",
    "enzymes acting separately (we are not considering different restricting enzymes\n",
    "acting together).**"
   ]
  },
  {
   "cell_type": "code",
   "execution_count": 6,
   "id": "d1cbebf2",
   "metadata": {},
   "outputs": [],
   "source": [
    "restrictionEnzymesDf = pd.read_csv('enzymelist(1).csv')"
   ]
  },
  {
   "cell_type": "code",
   "execution_count": 7,
   "id": "e7ab9a20",
   "metadata": {},
   "outputs": [
    {
     "name": "stdout",
     "output_type": "stream",
     "text": [
      "Count for target CGGCCG in Omicron sequence: 0\n",
      "Count for target TTATTA in Omicron sequence: 25\n",
      "Count for target CGCG in Omicron sequence: 12\n",
      "Count for target GGYRCC in Omicron sequence: 0\n",
      "Count for target RGCGCY in Omicron sequence: 0\n",
      "Count for target CACNNNGTG in Omicron sequence: 0\n",
      "Count for target GGWCC in Omicron sequence: 0\n",
      "Count for target CACNNNNGTG in Omicron sequence: 0\n",
      "Count for target CCTNAGG in Omicron sequence: 0\n"
     ]
    }
   ],
   "source": [
    "for i in range(restrictionEnzymesDf.shape[0]):\n",
    "    target = restrictionEnzymesDf.iloc[i, 1]\n",
    "    sites_cnt = RestrictionSites(om_seq, target)\n",
    "    print(f\"Count for target {target} in Omicron sequence: {sites_cnt}\")"
   ]
  },
  {
   "cell_type": "markdown",
   "id": "a62c88bd",
   "metadata": {},
   "source": [
    "**(d) (2 pts) Repeat part (c) for the delta sequence.**"
   ]
  },
  {
   "cell_type": "code",
   "execution_count": 8,
   "id": "709991a0",
   "metadata": {},
   "outputs": [
    {
     "name": "stdout",
     "output_type": "stream",
     "text": [
      "Count for target CGGCCG in Delta sequence: 0\n",
      "Count for target TTATTA in Delta sequence: 25\n",
      "Count for target CGCG in Delta sequence: 13\n",
      "Count for target GGYRCC in Delta sequence: 0\n",
      "Count for target RGCGCY in Delta sequence: 0\n",
      "Count for target CACNNNGTG in Delta sequence: 0\n",
      "Count for target GGWCC in Delta sequence: 0\n",
      "Count for target CACNNNNGTG in Delta sequence: 0\n",
      "Count for target CCTNAGG in Delta sequence: 0\n"
     ]
    }
   ],
   "source": [
    "for i in range(restrictionEnzymesDf.shape[0]):\n",
    "    target = restrictionEnzymesDf.iloc[i, 1]\n",
    "    sites_cnt = RestrictionSites(del_seq, target)\n",
    "    print(f\"Count for target {target} in Delta sequence: {sites_cnt}\")"
   ]
  },
  {
   "cell_type": "markdown",
   "id": "68c6988f",
   "metadata": {},
   "source": [
    "**(e) (1 pt) Based on your answers to parts (c) and (d), you should see that there is exactly\n",
    "one restriction enzyme such that the number of copies of the target is different in\n",
    "the omicron and delta sequences. Which restriction enzyme is it?**"
   ]
  },
  {
   "cell_type": "code",
   "execution_count": 9,
   "id": "15375b7d",
   "metadata": {},
   "outputs": [
    {
     "data": {
      "text/html": [
       "<div>\n",
       "<style scoped>\n",
       "    .dataframe tbody tr th:only-of-type {\n",
       "        vertical-align: middle;\n",
       "    }\n",
       "\n",
       "    .dataframe tbody tr th {\n",
       "        vertical-align: top;\n",
       "    }\n",
       "\n",
       "    .dataframe thead th {\n",
       "        text-align: right;\n",
       "    }\n",
       "</style>\n",
       "<table border=\"1\" class=\"dataframe\">\n",
       "  <thead>\n",
       "    <tr style=\"text-align: right;\">\n",
       "      <th></th>\n",
       "      <th>restriction enzyme</th>\n",
       "      <th>target</th>\n",
       "      <th>cut site at x</th>\n",
       "    </tr>\n",
       "  </thead>\n",
       "  <tbody>\n",
       "    <tr>\n",
       "      <th>2</th>\n",
       "      <td>AccII</td>\n",
       "      <td>CGCG</td>\n",
       "      <td>CGxCG</td>\n",
       "    </tr>\n",
       "  </tbody>\n",
       "</table>\n",
       "</div>"
      ],
      "text/plain": [
       "   restriction enzyme target cut site at x\n",
       "2               AccII   CGCG         CGxCG"
      ]
     },
     "execution_count": 9,
     "metadata": {},
     "output_type": "execute_result"
    }
   ],
   "source": [
    "restrictionEnzymesDf.loc[restrictionEnzymesDf['target'] == 'CGCG']"
   ]
  },
  {
   "cell_type": "markdown",
   "id": "222738de",
   "metadata": {},
   "source": [
    "The target copy count only differs for the restriction enzyme AccII, where Omicron has 12 targets while Delta has 13 targets."
   ]
  },
  {
   "cell_type": "markdown",
   "id": "faac908b",
   "metadata": {},
   "source": [
    "**(f) (3 pts) Write a function (or functions) that will take as input both a sequence and\n",
    "one restriction enzyme target and will output a list of the lengths of the pieces the\n",
    "sequence will be cut into by the restriction enzyme. For the restriction enzyme you\n",
    "found in part (e), run this function separately on the omicron and delta sequences\n",
    "(the outputs will then be two lists of numbers).**\n",
    "\n",
    "**The third column in the file “enzymelist.csv” tells the exact location of the cut within\n",
    "the target. This location is different for each restriction enzyme. This information will\n",
    "only affect the lengths of the cut pieces by a few base pairs (and it is OK if your\n",
    "computed lengths are off by just a few base pairs). You should have found that one\n",
    "of the pieces cut from the omicron variant is more than 100 base pairs longer than\n",
    "any of the pieces cut from the delta variant, so we can use restriction enzymes and\n",
    "gel electrophoresis to distinguish between omicron and delta without sequencing.**"
   ]
  },
  {
   "cell_type": "code",
   "execution_count": 10,
   "id": "863bfdc8",
   "metadata": {},
   "outputs": [],
   "source": [
    "def RestrictionFragments(seq: str, target: str) -> list:\n",
    "    RestrictionEnzymesDf = pd.read_csv('enzymelist(1).csv')\n",
    "    restrict_enz = restrictionEnzymesDf.loc[restrictionEnzymesDf['target'] == target]\n",
    "    cut_site = restrict_enz['cut site at x'].iloc[0]\n",
    "    res_frags = []\n",
    "    seq = seq.replace(target, cut_site)\n",
    "    seq = seq.split('x')\n",
    "    for j in seq:\n",
    "        res_frags.append(len(j))\n",
    "    return res_frags"
   ]
  },
  {
   "cell_type": "code",
   "execution_count": 11,
   "id": "037ed178",
   "metadata": {},
   "outputs": [
    {
     "data": {
      "text/plain": [
       "[333, 6026, 1991, 5063, 533, 4308, 3039, 4167, 1353, 6, 1529, 849, 587]"
      ]
     },
     "execution_count": 11,
     "metadata": {},
     "output_type": "execute_result"
    }
   ],
   "source": [
    "RestrictionFragments(om_seq, 'CGCG')"
   ]
  },
  {
   "cell_type": "code",
   "execution_count": 12,
   "id": "19c5cbe0",
   "metadata": {},
   "outputs": [
    {
     "data": {
      "text/plain": [
       "[309, 5177, 849, 1991, 5072, 533, 4308, 3039, 4176, 1353, 6, 1538, 849, 636]"
      ]
     },
     "execution_count": 12,
     "metadata": {},
     "output_type": "execute_result"
    }
   ],
   "source": [
    "RestrictionFragments(del_seq, 'CGCG')"
   ]
  },
  {
   "cell_type": "markdown",
   "id": "17030421",
   "metadata": {},
   "source": [
    "We see that there is a restriction fragment from the Omicron strain which is 6026 bp long. This is more than 800 bp longer than the longest fragment obtained from Delta which is 5177 bp. It appears that there is an extra cut site in the Delta strain which splits the original 6026 bp from Omicron into 5177 and 849 bp fragments in Delta. This extra cut site in the Delta strain is likely attributable to a mutation that is unique to the Delta strain that introduced a new target site which the restriction enzyme AccII is able to detect and cut.   "
   ]
  },
  {
   "cell_type": "markdown",
   "id": "1bc8050b",
   "metadata": {},
   "source": [
    "## Problem 2"
   ]
  },
  {
   "cell_type": "markdown",
   "id": "813fa767",
   "metadata": {},
   "source": [
    "**2. (15 pts) The statement of this problem includes some background on logistic regression.\n",
    "Be sure to answer parts (a) – (f).**\n",
    "\n",
    "**For the second problem we are going to use the cancer file “abbwdbc.csv” attached to\n",
    "this assignment. This file is an abbreviated version of the file from HW 8 (many of the\n",
    "columns from the file in HW 8 have been deleted). Similar to HW 8, we are going to use\n",
    "logistic regression to try to predict the diagnosis column.**\n",
    "\n",
    "**(a) (1 pt) How many rows have diagnosis “B” and how many rows have diagnosis “M”?\n",
    "(These numbers are relatively balanced, so there is no need to use any of the\n",
    "methods from the unbalanced data lecture, but it is a good idea to check.)**"
   ]
  },
  {
   "cell_type": "code",
   "execution_count": 13,
   "id": "d064d9b4",
   "metadata": {},
   "outputs": [],
   "source": [
    "import pandas as pd\n",
    "import numpy as np\n",
    "import matplotlib.pyplot as plt\n",
    "from sklearn.model_selection import train_test_split\n",
    "from sklearn.preprocessing import StandardScaler\n",
    "from sklearn.linear_model import LogisticRegression\n",
    "from sklearn.metrics import confusion_matrix"
   ]
  },
  {
   "cell_type": "code",
   "execution_count": 14,
   "id": "5ac62903",
   "metadata": {},
   "outputs": [
    {
     "data": {
      "text/html": [
       "<div>\n",
       "<style scoped>\n",
       "    .dataframe tbody tr th:only-of-type {\n",
       "        vertical-align: middle;\n",
       "    }\n",
       "\n",
       "    .dataframe tbody tr th {\n",
       "        vertical-align: top;\n",
       "    }\n",
       "\n",
       "    .dataframe thead th {\n",
       "        text-align: right;\n",
       "    }\n",
       "</style>\n",
       "<table border=\"1\" class=\"dataframe\">\n",
       "  <thead>\n",
       "    <tr style=\"text-align: right;\">\n",
       "      <th></th>\n",
       "      <th>diagnosis</th>\n",
       "      <th>mean_radius</th>\n",
       "      <th>mean_texture</th>\n",
       "      <th>mean_perimeter</th>\n",
       "      <th>mean_area</th>\n",
       "      <th>mean_smoothness</th>\n",
       "    </tr>\n",
       "  </thead>\n",
       "  <tbody>\n",
       "    <tr>\n",
       "      <th>0</th>\n",
       "      <td>M</td>\n",
       "      <td>17.99</td>\n",
       "      <td>10.38</td>\n",
       "      <td>122.80</td>\n",
       "      <td>1001.0</td>\n",
       "      <td>0.11840</td>\n",
       "    </tr>\n",
       "    <tr>\n",
       "      <th>1</th>\n",
       "      <td>M</td>\n",
       "      <td>20.57</td>\n",
       "      <td>17.77</td>\n",
       "      <td>132.90</td>\n",
       "      <td>1326.0</td>\n",
       "      <td>0.08474</td>\n",
       "    </tr>\n",
       "    <tr>\n",
       "      <th>2</th>\n",
       "      <td>M</td>\n",
       "      <td>19.69</td>\n",
       "      <td>21.25</td>\n",
       "      <td>130.00</td>\n",
       "      <td>1203.0</td>\n",
       "      <td>0.10960</td>\n",
       "    </tr>\n",
       "    <tr>\n",
       "      <th>3</th>\n",
       "      <td>M</td>\n",
       "      <td>11.42</td>\n",
       "      <td>20.38</td>\n",
       "      <td>77.58</td>\n",
       "      <td>386.1</td>\n",
       "      <td>0.14250</td>\n",
       "    </tr>\n",
       "    <tr>\n",
       "      <th>4</th>\n",
       "      <td>M</td>\n",
       "      <td>20.29</td>\n",
       "      <td>14.34</td>\n",
       "      <td>135.10</td>\n",
       "      <td>1297.0</td>\n",
       "      <td>0.10030</td>\n",
       "    </tr>\n",
       "    <tr>\n",
       "      <th>...</th>\n",
       "      <td>...</td>\n",
       "      <td>...</td>\n",
       "      <td>...</td>\n",
       "      <td>...</td>\n",
       "      <td>...</td>\n",
       "      <td>...</td>\n",
       "    </tr>\n",
       "    <tr>\n",
       "      <th>564</th>\n",
       "      <td>M</td>\n",
       "      <td>21.56</td>\n",
       "      <td>22.39</td>\n",
       "      <td>142.00</td>\n",
       "      <td>1479.0</td>\n",
       "      <td>0.11100</td>\n",
       "    </tr>\n",
       "    <tr>\n",
       "      <th>565</th>\n",
       "      <td>M</td>\n",
       "      <td>20.13</td>\n",
       "      <td>28.25</td>\n",
       "      <td>131.20</td>\n",
       "      <td>1261.0</td>\n",
       "      <td>0.09780</td>\n",
       "    </tr>\n",
       "    <tr>\n",
       "      <th>566</th>\n",
       "      <td>M</td>\n",
       "      <td>16.60</td>\n",
       "      <td>28.08</td>\n",
       "      <td>108.30</td>\n",
       "      <td>858.1</td>\n",
       "      <td>0.08455</td>\n",
       "    </tr>\n",
       "    <tr>\n",
       "      <th>567</th>\n",
       "      <td>M</td>\n",
       "      <td>20.60</td>\n",
       "      <td>29.33</td>\n",
       "      <td>140.10</td>\n",
       "      <td>1265.0</td>\n",
       "      <td>0.11780</td>\n",
       "    </tr>\n",
       "    <tr>\n",
       "      <th>568</th>\n",
       "      <td>B</td>\n",
       "      <td>7.76</td>\n",
       "      <td>24.54</td>\n",
       "      <td>47.92</td>\n",
       "      <td>181.0</td>\n",
       "      <td>0.05263</td>\n",
       "    </tr>\n",
       "  </tbody>\n",
       "</table>\n",
       "<p>569 rows × 6 columns</p>\n",
       "</div>"
      ],
      "text/plain": [
       "    diagnosis  mean_radius  mean_texture  mean_perimeter  mean_area  \\\n",
       "0           M        17.99         10.38          122.80     1001.0   \n",
       "1           M        20.57         17.77          132.90     1326.0   \n",
       "2           M        19.69         21.25          130.00     1203.0   \n",
       "3           M        11.42         20.38           77.58      386.1   \n",
       "4           M        20.29         14.34          135.10     1297.0   \n",
       "..        ...          ...           ...             ...        ...   \n",
       "564         M        21.56         22.39          142.00     1479.0   \n",
       "565         M        20.13         28.25          131.20     1261.0   \n",
       "566         M        16.60         28.08          108.30      858.1   \n",
       "567         M        20.60         29.33          140.10     1265.0   \n",
       "568         B         7.76         24.54           47.92      181.0   \n",
       "\n",
       "     mean_smoothness  \n",
       "0            0.11840  \n",
       "1            0.08474  \n",
       "2            0.10960  \n",
       "3            0.14250  \n",
       "4            0.10030  \n",
       "..               ...  \n",
       "564          0.11100  \n",
       "565          0.09780  \n",
       "566          0.08455  \n",
       "567          0.11780  \n",
       "568          0.05263  \n",
       "\n",
       "[569 rows x 6 columns]"
      ]
     },
     "execution_count": 14,
     "metadata": {},
     "output_type": "execute_result"
    }
   ],
   "source": [
    "df = pd.read_csv('abbwdbc(1).csv')\n",
    "df"
   ]
  },
  {
   "cell_type": "code",
   "execution_count": 15,
   "id": "0b16bd21",
   "metadata": {},
   "outputs": [
    {
     "name": "stdout",
     "output_type": "stream",
     "text": [
      "212\n"
     ]
    }
   ],
   "source": [
    "print(len(df[df['diagnosis'] == 'M']))"
   ]
  },
  {
   "cell_type": "code",
   "execution_count": 16,
   "id": "dfed81b6",
   "metadata": {},
   "outputs": [
    {
     "name": "stdout",
     "output_type": "stream",
     "text": [
      "357\n"
     ]
    }
   ],
   "source": [
    "print(len(df[df['diagnosis'] == 'B']))"
   ]
  },
  {
   "cell_type": "markdown",
   "id": "37776718",
   "metadata": {},
   "source": [
    "357 rows have the diagnosis 'B' while 212 rows have the diagnosis 'M'."
   ]
  },
  {
   "cell_type": "code",
   "execution_count": 17,
   "id": "d25e2592",
   "metadata": {},
   "outputs": [],
   "source": [
    "y = df['diagnosis'] #feature to be predicted\n",
    "temp_X = df.drop('diagnosis', axis=1) #all other features to be trained on \n",
    "X = pd.get_dummies(temp_X, drop_first=True)"
   ]
  },
  {
   "cell_type": "code",
   "execution_count": 18,
   "id": "9c39e58b",
   "metadata": {},
   "outputs": [
    {
     "data": {
      "text/html": [
       "<style>#sk-container-id-1 {color: black;}#sk-container-id-1 pre{padding: 0;}#sk-container-id-1 div.sk-toggleable {background-color: white;}#sk-container-id-1 label.sk-toggleable__label {cursor: pointer;display: block;width: 100%;margin-bottom: 0;padding: 0.3em;box-sizing: border-box;text-align: center;}#sk-container-id-1 label.sk-toggleable__label-arrow:before {content: \"▸\";float: left;margin-right: 0.25em;color: #696969;}#sk-container-id-1 label.sk-toggleable__label-arrow:hover:before {color: black;}#sk-container-id-1 div.sk-estimator:hover label.sk-toggleable__label-arrow:before {color: black;}#sk-container-id-1 div.sk-toggleable__content {max-height: 0;max-width: 0;overflow: hidden;text-align: left;background-color: #f0f8ff;}#sk-container-id-1 div.sk-toggleable__content pre {margin: 0.2em;color: black;border-radius: 0.25em;background-color: #f0f8ff;}#sk-container-id-1 input.sk-toggleable__control:checked~div.sk-toggleable__content {max-height: 200px;max-width: 100%;overflow: auto;}#sk-container-id-1 input.sk-toggleable__control:checked~label.sk-toggleable__label-arrow:before {content: \"▾\";}#sk-container-id-1 div.sk-estimator input.sk-toggleable__control:checked~label.sk-toggleable__label {background-color: #d4ebff;}#sk-container-id-1 div.sk-label input.sk-toggleable__control:checked~label.sk-toggleable__label {background-color: #d4ebff;}#sk-container-id-1 input.sk-hidden--visually {border: 0;clip: rect(1px 1px 1px 1px);clip: rect(1px, 1px, 1px, 1px);height: 1px;margin: -1px;overflow: hidden;padding: 0;position: absolute;width: 1px;}#sk-container-id-1 div.sk-estimator {font-family: monospace;background-color: #f0f8ff;border: 1px dotted black;border-radius: 0.25em;box-sizing: border-box;margin-bottom: 0.5em;}#sk-container-id-1 div.sk-estimator:hover {background-color: #d4ebff;}#sk-container-id-1 div.sk-parallel-item::after {content: \"\";width: 100%;border-bottom: 1px solid gray;flex-grow: 1;}#sk-container-id-1 div.sk-label:hover label.sk-toggleable__label {background-color: #d4ebff;}#sk-container-id-1 div.sk-serial::before {content: \"\";position: absolute;border-left: 1px solid gray;box-sizing: border-box;top: 0;bottom: 0;left: 50%;z-index: 0;}#sk-container-id-1 div.sk-serial {display: flex;flex-direction: column;align-items: center;background-color: white;padding-right: 0.2em;padding-left: 0.2em;position: relative;}#sk-container-id-1 div.sk-item {position: relative;z-index: 1;}#sk-container-id-1 div.sk-parallel {display: flex;align-items: stretch;justify-content: center;background-color: white;position: relative;}#sk-container-id-1 div.sk-item::before, #sk-container-id-1 div.sk-parallel-item::before {content: \"\";position: absolute;border-left: 1px solid gray;box-sizing: border-box;top: 0;bottom: 0;left: 50%;z-index: -1;}#sk-container-id-1 div.sk-parallel-item {display: flex;flex-direction: column;z-index: 1;position: relative;background-color: white;}#sk-container-id-1 div.sk-parallel-item:first-child::after {align-self: flex-end;width: 50%;}#sk-container-id-1 div.sk-parallel-item:last-child::after {align-self: flex-start;width: 50%;}#sk-container-id-1 div.sk-parallel-item:only-child::after {width: 0;}#sk-container-id-1 div.sk-dashed-wrapped {border: 1px dashed gray;margin: 0 0.4em 0.5em 0.4em;box-sizing: border-box;padding-bottom: 0.4em;background-color: white;}#sk-container-id-1 div.sk-label label {font-family: monospace;font-weight: bold;display: inline-block;line-height: 1.2em;}#sk-container-id-1 div.sk-label-container {text-align: center;}#sk-container-id-1 div.sk-container {/* jupyter's `normalize.less` sets `[hidden] { display: none; }` but bootstrap.min.css set `[hidden] { display: none !important; }` so we also need the `!important` here to be able to override the default hidden behavior on the sphinx rendered scikit-learn.org. See: https://github.com/scikit-learn/scikit-learn/issues/21755 */display: inline-block !important;position: relative;}#sk-container-id-1 div.sk-text-repr-fallback {display: none;}</style><div id=\"sk-container-id-1\" class=\"sk-top-container\"><div class=\"sk-text-repr-fallback\"><pre>LogisticRegression()</pre><b>In a Jupyter environment, please rerun this cell to show the HTML representation or trust the notebook. <br />On GitHub, the HTML representation is unable to render, please try loading this page with nbviewer.org.</b></div><div class=\"sk-container\" hidden><div class=\"sk-item\"><div class=\"sk-estimator sk-toggleable\"><input class=\"sk-toggleable__control sk-hidden--visually\" id=\"sk-estimator-id-1\" type=\"checkbox\" checked><label for=\"sk-estimator-id-1\" class=\"sk-toggleable__label sk-toggleable__label-arrow\">LogisticRegression</label><div class=\"sk-toggleable__content\"><pre>LogisticRegression()</pre></div></div></div></div></div>"
      ],
      "text/plain": [
       "LogisticRegression()"
      ]
     },
     "execution_count": 18,
     "metadata": {},
     "output_type": "execute_result"
    }
   ],
   "source": [
    "# Split the data into training and test sets (use test_size=.25 and random_state=123),\n",
    "# standardize the X-variables, and fit the logistic regression model on the training set.\n",
    "\n",
    "X_train, X_test, y_train, y_test = train_test_split(X, y, test_size=0.25, random_state=123)\n",
    "scaler = StandardScaler().fit(X_train)\n",
    "X_train = scaler.transform(X_train)\n",
    "X_test = scaler.transform(X_test)\n",
    "log_reg = LogisticRegression()\n",
    "log_reg.fit(X_train, y_train)"
   ]
  },
  {
   "cell_type": "code",
   "execution_count": 19,
   "id": "1c81a693",
   "metadata": {},
   "outputs": [
    {
     "data": {
      "text/plain": [
       "array([[9.99459092e-01, 5.40907796e-04],\n",
       "       [9.99653453e-01, 3.46547342e-04],\n",
       "       [8.90653553e-02, 9.10934645e-01],\n",
       "       [9.96465848e-01, 3.53415204e-03],\n",
       "       [1.21547008e-02, 9.87845299e-01]])"
      ]
     },
     "execution_count": 19,
     "metadata": {},
     "output_type": "execute_result"
    }
   ],
   "source": [
    "log_reg.predict_proba(X_test[0:5])"
   ]
  },
  {
   "cell_type": "code",
   "execution_count": 20,
   "id": "ab1ea29f",
   "metadata": {},
   "outputs": [
    {
     "data": {
      "text/plain": [
       "array(['B', 'B', 'M', 'B', 'M'], dtype=object)"
      ]
     },
     "execution_count": 20,
     "metadata": {},
     "output_type": "execute_result"
    }
   ],
   "source": [
    "log_reg.predict(X_test[0:5])"
   ]
  },
  {
   "cell_type": "markdown",
   "id": "42aa3b69",
   "metadata": {},
   "source": [
    "In this problem we are going to study whether the model is more likely to make the\n",
    "correct prediction if p0 is far from the threshold of 0.5 (so near 0 or 1) than if p0 is near\n",
    "0.5.\n",
    "\n",
    "**(b) (4 pts) Plot a histogram of p0 for all the rows in the test set.**"
   ]
  },
  {
   "cell_type": "code",
   "execution_count": 21,
   "id": "635bc586",
   "metadata": {},
   "outputs": [
    {
     "data": {
      "image/png": "[encoded data removed]",
      "text/plain": [
       "<Figure size 640x480 with 1 Axes>"
      ]
     },
     "metadata": {},
     "output_type": "display_data"
    }
   ],
   "source": [
    "fig, ax = plt.subplots()\n",
    "plt.hist(log_reg.predict_proba(X_test)[0], bins = 20)\n",
    "ax.set(xlabel = \"Frequency\", ylabel = 'p0', title = 'Histogram of p0 for all rows in test set')\n",
    "plt.show()"
   ]
  },
  {
   "cell_type": "markdown",
   "id": "9a375408",
   "metadata": {},
   "source": [
    "**(c) (4 pts) Compute the accuracy (the percentage of rows the model prediction is\n",
    "correct) and the confusion matrix for all the rows in the test set.**"
   ]
  },
  {
   "cell_type": "code",
   "execution_count": 22,
   "id": "04d7d3bf",
   "metadata": {},
   "outputs": [
    {
     "name": "stdout",
     "output_type": "stream",
     "text": [
      "The accuracy of the model is 0.9370629370629371\n"
     ]
    }
   ],
   "source": [
    "print(f\"The accuracy of the model is {np.mean(y_test == log_reg.predict(X_test))}\")"
   ]
  },
  {
   "cell_type": "code",
   "execution_count": 23,
   "id": "7ddf3b52",
   "metadata": {},
   "outputs": [
    {
     "data": {
      "text/plain": [
       "array([[86,  3],\n",
       "       [ 6, 48]])"
      ]
     },
     "execution_count": 23,
     "metadata": {},
     "output_type": "execute_result"
    }
   ],
   "source": [
    "confusion_matrix(y_test, log_reg.predict(X_test))"
   ]
  },
  {
   "cell_type": "markdown",
   "id": "ead3c8a4",
   "metadata": {},
   "source": [
    "**(d) (3 pts) For part (d) we will restrict ourselves to just those rows in the test set such\n",
    "that p0 is less than 0.2 or greater than 0.8. For just these rows, compute the\n",
    "accuracy and the confusion matrix.**"
   ]
  },
  {
   "cell_type": "code",
   "execution_count": 24,
   "id": "9d96d362",
   "metadata": {},
   "outputs": [],
   "source": [
    "mask = (log_reg.predict_proba(X_test)[:, 0] < 0.2) | (log_reg.predict_proba(X_test)[:, 0] > 0.8)\n",
    "predict_subset = log_reg.predict(X_test)[mask]\n",
    "truth_subset = y_test[mask]"
   ]
  },
  {
   "cell_type": "code",
   "execution_count": 25,
   "id": "94efb364",
   "metadata": {},
   "outputs": [
    {
     "name": "stdout",
     "output_type": "stream",
     "text": [
      "The accuracy of the model on our subset is 0.968503937007874\n"
     ]
    }
   ],
   "source": [
    "print(f\"The accuracy of the model on our subset is {np.mean(truth_subset == predict_subset)}\")"
   ]
  },
  {
   "cell_type": "code",
   "execution_count": 26,
   "id": "217d56a9",
   "metadata": {},
   "outputs": [
    {
     "data": {
      "text/plain": [
       "array([[82,  1],\n",
       "       [ 3, 41]])"
      ]
     },
     "execution_count": 26,
     "metadata": {},
     "output_type": "execute_result"
    }
   ],
   "source": [
    "confusion_matrix(truth_subset, predict_subset)"
   ]
  },
  {
   "cell_type": "markdown",
   "id": "77caf4cd",
   "metadata": {},
   "source": [
    "**(e) (2 pts) For part (e) we will restrict ourselves to just those rows in the test set such\n",
    "that p0 is between 0.2 and 0.8. For just these rows, compute the accuracy and the\n",
    "confusion matrix**"
   ]
  },
  {
   "cell_type": "code",
   "execution_count": 27,
   "id": "b2ba2627",
   "metadata": {},
   "outputs": [],
   "source": [
    "intermediate_mask = (log_reg.predict_proba(X_test)[:, 0] > 0.2) & (log_reg.predict_proba(X_test)[:, 0] < 0.8)\n",
    "intermediate_predict_subset = log_reg.predict(X_test)[intermediate_mask]\n",
    "intermediate_truth_subset = y_test[intermediate_mask]"
   ]
  },
  {
   "cell_type": "code",
   "execution_count": 28,
   "id": "515b7cc2",
   "metadata": {},
   "outputs": [
    {
     "name": "stdout",
     "output_type": "stream",
     "text": [
      "The accuracy of the model on our subset is 0.6875\n"
     ]
    }
   ],
   "source": [
    "print(f\"The accuracy of the model on our subset is {np.mean(intermediate_truth_subset == intermediate_predict_subset)}\")"
   ]
  },
  {
   "cell_type": "code",
   "execution_count": 29,
   "id": "95da169f",
   "metadata": {},
   "outputs": [
    {
     "data": {
      "text/plain": [
       "array([[4, 2],\n",
       "       [3, 7]])"
      ]
     },
     "execution_count": 29,
     "metadata": {},
     "output_type": "execute_result"
    }
   ],
   "source": [
    "confusion_matrix(intermediate_truth_subset, intermediate_predict_subset)"
   ]
  },
  {
   "cell_type": "markdown",
   "id": "818f9504",
   "metadata": {},
   "source": [
    "**(f) (1 pt) Based on your results in parts (c), (d), and (e), is the model more likely to make\n",
    "the correct prediction if p0 is far from the threshold of 0.5 (so near 0 or 1) than if p0\n",
    "is near 0.5?**"
   ]
  },
  {
   "cell_type": "markdown",
   "id": "e1c9e4fb",
   "metadata": {},
   "source": [
    "Based on my results, it appears that the model is more likely to make the correct prediction if p0 is far from the threshold of 0.5 as evidenced by the high accuracy of 0.968 for the subset containing extreme p0 values compared to the relatively poor accuracy of 0.687 for the subset containing intermediate p0 values. This observation makes sense because more extreme p0 values are correlated with a higher certainty of classification in logistic regression outptus. "
   ]
  }
 ],
 "metadata": {
  "kernelspec": {
   "display_name": "Python 3 (rna)",
   "language": "python",
   "name": "rna"
  },
  "language_info": {
   "codemirror_mode": {
    "name": "ipython",
    "version": 3
   },
   "file_extension": ".py",
   "mimetype": "text/x-python",
   "name": "python",
   "nbconvert_exporter": "python",
   "pygments_lexer": "ipython3",
   "version": "3.9.18"
  }
 },
 "nbformat": 4,
 "nbformat_minor": 5
}
