{
 "cells": [
  {
   "cell_type": "markdown",
   "id": "8396777f",
   "metadata": {},
   "source": [
    "# QBIO 401 Midterm 1\n",
    "## Hirad Hosseini\n",
    "## Fall 2023"
   ]
  },
  {
   "cell_type": "markdown",
   "id": "87c92ed4",
   "metadata": {},
   "source": [
    "<strong>1. (3 pts) It turns out that (at least for some runs) Illumina sequence files do not use all of\n",
    "the possible quality scores (0 – 40). Write a function (or several functions) to determine\n",
    "how many different quality scores are used in the fastq file,\n",
    "“XI1_ATCACG_L001_R1_001.fastq”. In addition, output which quality scores are used\n",
    "and the (non-zero) counts for these quality scores.<strong>"
   ]
  },
  {
   "cell_type": "code",
   "execution_count": 13,
   "id": "a194c254",
   "metadata": {},
   "outputs": [],
   "source": [
    "def quality_score_extractor(file_name: str) -> dict:\n",
    "    with open(file_name, \"r\") as f_in:\n",
    "        q_scores = [i for i in range(41)] #possible quality scores\n",
    "        q_score_counts = [0] * 41 #counts for each of the possible quality scores\n",
    "        line_count = 0\n",
    "        for line in f_in:\n",
    "            line_count += 1\n",
    "            if line_count % 4 == 0: #quality scores are found on every fourth line\n",
    "                temp = line.replace(\"/n\", \"\")\n",
    "                for i in range(len(temp)):\n",
    "                    q_score_counts[ord(temp[i]) - 33] += 1 #increments the freq of the quality score found\n",
    "        q_scores_dict = dict(zip(q_scores, q_score_counts)) #creates dict from q_scores and their freqs\n",
    "        #filters dict to remove zero-count key,value pairs\n",
    "        q_scores_dict = dict(filter(lambda x: x[1] != 0, q_scores_dict.items()))\n",
    "        return q_scores_dict"
   ]
  },
  {
   "cell_type": "code",
   "execution_count": 14,
   "id": "6c5e082d",
   "metadata": {},
   "outputs": [
    {
     "name": "stdout",
     "output_type": "stream",
     "text": [
      "{2: 135385, 13: 118170, 18: 10000, 22: 30072, 27: 94911, 32: 195080, 38: 1041606, 40: 884776}\n"
     ]
    }
   ],
   "source": [
    "scores = quality_score_extractor('XI1_ATCACG_L001_R1_001.fastq')\n",
    "print(scores)"
   ]
  },
  {
   "cell_type": "markdown",
   "id": "06362648",
   "metadata": {},
   "source": [
    "<strong>2. (7 pts) Does the distribution of quality scores at a site depend on the quality score at the\n",
    "previous site? Write a function (or several functions) that will take as input a fastq\n",
    "filename and a quality score. The function will look for all sites with the input quality\n",
    "score and then record the distribution of quality scores at the next site. With the file\n",
    "“XI1_ATCACG_L001_R1_001.fastq” run the function two times, first with input quality\n",
    "score 2 and then with input quality score 40. Output the quality scores and their associated counts for which the associate\n",
    "counts are not zero. <strong>"
   ]
  },
  {
   "cell_type": "code",
   "execution_count": 15,
   "id": "02bcb6b4",
   "metadata": {},
   "outputs": [],
   "source": [
    "def quality_score_dist(file_name: str, q_score: int) -> dict:\n",
    "    with open(file_name, \"r\") as f_in:\n",
    "        quality_scores = [i for i in range(41)] #possible quality scores\n",
    "        quality_score_counts = [0] * 41 #counts for each of the possible quality scores\n",
    "        line_count = 0\n",
    "        for line in f_in:\n",
    "            line_count += 1\n",
    "            if line_count % 4 == 0: #quality scores are found on every fourth line\n",
    "                temp = line.replace(\"/n\", \"\")\n",
    "                for i in range(len(temp) - 1): # we need len-1 because we are looking at the next site\n",
    "                    if ord(temp[i]) - 33 == q_score:\n",
    "                        quality_score_counts[ord(temp[i+1]) - 33] += 1 #increments the freq of the quality score found\n",
    "                        #at the next site\n",
    "        q_scores_dist_dict = dict(zip(quality_scores, quality_score_counts)) #creates dict from q_scores and their freqs\n",
    "        #filters dict to remove zero-count key,value pairs\n",
    "        q_scores_dist_dict = dict(filter(lambda x: x[1] != 0, q_scores_dist_dict.items())) \n",
    "        return q_scores_dist_dict"
   ]
  },
  {
   "cell_type": "code",
   "execution_count": 16,
   "id": "cfcb7aa5",
   "metadata": {},
   "outputs": [
    {
     "name": "stdout",
     "output_type": "stream",
     "text": [
      "{2: 127335, 13: 7, 18: 7953, 27: 90}\n"
     ]
    }
   ],
   "source": [
    "dists_2 = quality_score_dist('XI1_ATCACG_L001_R1_001.fastq', 2)\n",
    "print(dists_2)"
   ]
  },
  {
   "cell_type": "code",
   "execution_count": 45,
   "id": "2f0d268e",
   "metadata": {},
   "outputs": [
    {
     "name": "stdout",
     "output_type": "stream",
     "text": [
      "{2: 202, 13: 3825, 22: 243, 27: 1834, 32: 15426, 38: 223260, 40: 639986}\n"
     ]
    }
   ],
   "source": [
    "dists_40 = quality_score_dist('XI1_ATCACG_L001_R1_001.fastq', 40)\n",
    "print(dists_40)"
   ]
  },
  {
   "cell_type": "markdown",
   "id": "0fc4875c",
   "metadata": {},
   "source": [
    "<strong>3. (3 pts) Write a Python function that takes as input a multiz filename. The function\n",
    "computes the total number of nucleotide sites in the human sequence in the multiz file\n",
    "(count indels too, sum across all blocks). Run this function on the file “fixed-multiz30-ace2.txt”.<strong>"
   ]
  },
  {
   "cell_type": "code",
   "execution_count": 3,
   "id": "2cd28ce9",
   "metadata": {},
   "outputs": [],
   "source": [
    "import re"
   ]
  },
  {
   "cell_type": "code",
   "execution_count": 5,
   "id": "83078967",
   "metadata": {},
   "outputs": [],
   "source": [
    "def total_nucs(file_name: str) -> int:\n",
    "    total_nucs = 0\n",
    "    with open(file_name, \"r\") as f_in:\n",
    "        for line in f_in:\n",
    "            if re.match(\"a \", line): #checks for new alignment fragment. If found, reads in human seq and finds len\n",
    "                human_seq = f_in.readline()\n",
    "                human_seq = re.split(\"\\s+\", human_seq) #separates line into segments based on whitespace\n",
    "                human_seq = human_seq[6] #sixth segment of line always corresponds to the actual human sequence\n",
    "                total_nucs += len(human_seq) #sums lens of all human sequences\n",
    "        return total_nucs"
   ]
  },
  {
   "cell_type": "code",
   "execution_count": 6,
   "id": "05e14f71",
   "metadata": {},
   "outputs": [
    {
     "name": "stdout",
     "output_type": "stream",
     "text": [
      "59476\n"
     ]
    }
   ],
   "source": [
    "count = total_nucs(\"fixed-multiz30-ace2.txt\")\n",
    "print(count)"
   ]
  },
  {
   "cell_type": "markdown",
   "id": "0554e9fa",
   "metadata": {},
   "source": [
    "<strong>4. (7 pts) Write a Python function that takes as input a multiz filename and a species name.\n",
    "The function computes the total number of nucleotide sites in the inputted species\n",
    "which agree with the human sequence (sum across all blocks). With the file “fixedmultiz30-ace2.txt” run the function two times, first with input species “panTro5”\n",
    "(chimpanzee, the closest species to human in the file) and then with species “dasNov3”\n",
    "(armadillo, the furthest species from human in the file). Which species agrees more with\n",
    "human? Is this what you expected?<strong>"
   ]
  },
  {
   "cell_type": "code",
   "execution_count": 7,
   "id": "28f4803b",
   "metadata": {},
   "outputs": [],
   "source": [
    "def same_nucs_counter(file_name: str, species_name: str) -> int:\n",
    "    same_nucs = 0\n",
    "    with open(file_name, \"r\") as f_in:\n",
    "        for line in f_in:\n",
    "            if re.match(\"a \", line): #checks for new alignment fragment. If found, compares human & specified species\n",
    "                #sequences to find number of matches\n",
    "                human_seq = f_in.readline()\n",
    "                human_seq = re.split(\"\\s+\", human_seq) #separates line into segments based on whitespace\n",
    "                human_seq = human_seq[6] #sixth segment of line always corresponds to the actual human sequence\n",
    "            if re.match(f\"s {species_name}\", line): #checks for aligned sequence for specified species\n",
    "                species_seq = line\n",
    "                species_seq = re.split(\"\\s+\", species_seq) #separates line into segments based on whitespce\n",
    "                species_seq = species_seq[6] #sixth segment of line always corresponds to the actual species sequence\n",
    "                for i in range(len(human_seq)): #compares human and species sequences, increments for each match\n",
    "                    if human_seq[i] == species_seq[i]:\n",
    "                        same_nucs += 1\n",
    "        return same_nucs"
   ]
  },
  {
   "cell_type": "code",
   "execution_count": 8,
   "id": "4bf842e5",
   "metadata": {},
   "outputs": [
    {
     "name": "stdout",
     "output_type": "stream",
     "text": [
      "57145\n"
     ]
    }
   ],
   "source": [
    "chimp = same_nucs_counter(\"fixed-multiz30-ace2.txt\", \"panTro5\")\n",
    "print(chimp)"
   ]
  },
  {
   "cell_type": "code",
   "execution_count": 9,
   "id": "b659807f",
   "metadata": {},
   "outputs": [
    {
     "name": "stdout",
     "output_type": "stream",
     "text": [
      "30611\n"
     ]
    }
   ],
   "source": [
    "armadillo = same_nucs_counter(\"fixed-multiz30-ace2.txt\", \"dasNov3\")\n",
    "print(armadillo)"
   ]
  },
  {
   "cell_type": "markdown",
   "id": "c80df3e2",
   "metadata": {},
   "source": [
    "Based on the total number of nucleotides in each species which agree with the human sequences (summed across all blocks), it appears that the chimpanzee's sequence agrees more with humans because it has a greater number of matches. This is expected from our existing knowledge of evolution and phylogeny because chimpanzees are relatively closer ancestors to humans than armadillos, so we expect a greater similarity in their genomes."
   ]
  }
 ],
 "metadata": {
  "kernelspec": {
   "display_name": "Python 3 (ipykernel)",
   "language": "python",
   "name": "python3"
  },
  "language_info": {
   "codemirror_mode": {
    "name": "ipython",
    "version": 3
   },
   "file_extension": ".py",
   "mimetype": "text/x-python",
   "name": "python",
   "nbconvert_exporter": "python",
   "pygments_lexer": "ipython3",
   "version": "3.9.18"
  }
 },
 "nbformat": 4,
 "nbformat_minor": 5
}
