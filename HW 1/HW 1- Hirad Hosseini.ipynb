{
 "cells": [
  {
   "cell_type": "markdown",
   "id": "c351731d",
   "metadata": {},
   "source": [
    "# QBIO 401 HW 1\n",
    "## Hirad Hosseini\n",
    "### QBIO 401, Fall 2023"
   ]
  },
  {
   "cell_type": "markdown",
   "id": "1fe268ba",
   "metadata": {},
   "source": [
    "Write a Python function that takes as input a sequence string and returns a list with 4\n",
    "entries that are the number of A, C, G, and T in the sequence."
   ]
  },
  {
   "cell_type": "code",
   "execution_count": 1,
   "id": "94af6a10",
   "metadata": {},
   "outputs": [
    {
     "data": {
      "text/plain": [
       "[3, 3, 3, 3]"
      ]
     },
     "execution_count": 1,
     "metadata": {},
     "output_type": "execute_result"
    }
   ],
   "source": [
    "sample_seq = \"ACTGACTGACTG\"\n",
    "def count_bases(seq):\n",
    "    ACTG_count = [0,0,0,0]\n",
    "    for base in seq:\n",
    "        if base == \"A\":\n",
    "            ACTG_count[0] += 1\n",
    "        elif base == \"C\":\n",
    "            ACTG_count[1] += 1\n",
    "        elif base == \"T\":\n",
    "            ACTG_count[2] += 1\n",
    "        elif base == \"G\":\n",
    "            ACTG_count[3] += 1\n",
    "    return ACTG_count\n",
    "count_bases(sample_seq)"
   ]
  },
  {
   "cell_type": "markdown",
   "id": "25c06d14",
   "metadata": {},
   "source": [
    "Write another Python function that takes two inputs: a sequence string and a string of\n",
    "two letters (e.g., “CG” or “CT”). This function returns the number of times the two\n",
    "letters occur consecutively in the sequence."
   ]
  },
  {
   "cell_type": "code",
   "execution_count": 12,
   "id": "3100f1dd",
   "metadata": {},
   "outputs": [
    {
     "data": {
      "text/plain": [
       "3"
      ]
     },
     "execution_count": 12,
     "metadata": {},
     "output_type": "execute_result"
    }
   ],
   "source": [
    "sample_motif = \"CT\"\n",
    "def count_motif(seq,motif):\n",
    "    motif_count = 0\n",
    "    for base in range(len(seq) - 1):\n",
    "        if seq[base] == motif[0] and seq[base + 1] == motif[1]:\n",
    "            motif_count += 1\n",
    "    return motif_count\n",
    "count_motif(sample_seq, sample_motif)"
   ]
  },
  {
   "cell_type": "markdown",
   "id": "5acba372",
   "metadata": {},
   "source": [
    "Write a third Python function that takes as input a sequence string and returns a list\n",
    "with 16 entries that are the outputs of function #2 for all 16 possible two letter strings."
   ]
  },
  {
   "cell_type": "code",
   "execution_count": 14,
   "id": "18632964",
   "metadata": {},
   "outputs": [
    {
     "data": {
      "text/plain": [
       "[0, 3, 0, 0, 0, 0, 3, 0, 0, 0, 0, 3, 2, 0, 0, 0]"
      ]
     },
     "execution_count": 14,
     "metadata": {},
     "output_type": "execute_result"
    }
   ],
   "source": [
    "'''\n",
    "\n",
    "Our motif_counts list is ordered such that we permutate through all doublets starting with A, then doublets\n",
    "starting with C, then with T, and finally with G. Thus, our list is ordered such that it represents the\n",
    "counts for [AA, AC, AT, AG, CA, CC, CT, CG, TA, ...]\n",
    "\n",
    "'''\n",
    "\n",
    "def motif_permutator(seq):\n",
    "    motif_counts = [0] * 16\n",
    "    bases = [\"A\", \"C\", \"T\", \"G\"]\n",
    "    i = 0\n",
    "    for base1 in bases:\n",
    "        for base2 in bases:\n",
    "            motif = [base1, base2]\n",
    "            motif_counts[i] = count_motif(seq, motif)\n",
    "            i += 1\n",
    "    return motif_counts\n",
    "motif_permutator(sample_seq)"
   ]
  },
  {
   "cell_type": "markdown",
   "id": "f00cdeef",
   "metadata": {},
   "source": [
    "For each of the two FASTA files, has the output for functions #1 and #3. (There are many\n",
    "possible output formats, list them in alphabetical order, i.e., AA, AC, AG, AT, CA, etc.)"
   ]
  },
  {
   "cell_type": "code",
   "execution_count": 15,
   "id": "e17db3fa",
   "metadata": {},
   "outputs": [],
   "source": [
    "#From lecture2functions.py:\n",
    "\n",
    "def loadFASTA2(filename):\n",
    "    '''Outputs a sequence string from the FASTA file named filename'''\n",
    "    seqlist = []\n",
    "    with open(filename,\"r\") as infile:\n",
    "      temp = infile.readline() # reads a single line\n",
    "                               # we don't want the first line \n",
    "                               # of the FASTA file \">...\"\n",
    "      for line in infile: # reads one line at a time\n",
    "                          # when it gets to the end of the file it stops\n",
    "        temp = line.replace(\"\\n\",\"\") # removes \\n\n",
    "        temp = temp.replace(\"\\r\",\"\") # removes \\r too\n",
    "        seqlist.append(temp)\n",
    "    seq = \"\".join(seqlist) # combines the list into a string\n",
    "    return seq"
   ]
  },
  {
   "cell_type": "code",
   "execution_count": 20,
   "id": "cea22b48",
   "metadata": {},
   "outputs": [],
   "source": [
    "#For human sequence of PTPN11\n",
    "human_seq = loadFASTA2(\"/Users/hiradh/QBIO 401/human_sequence.fasta\")"
   ]
  },
  {
   "cell_type": "code",
   "execution_count": 21,
   "id": "177d124e",
   "metadata": {},
   "outputs": [
    {
     "data": {
      "text/plain": [
       "[1773, 1139, 1751, 1410]"
      ]
     },
     "execution_count": 21,
     "metadata": {},
     "output_type": "execute_result"
    }
   ],
   "source": [
    "#Output list is ordered [A,C,T,G]\n",
    "count_bases(human_seq)"
   ]
  },
  {
   "cell_type": "code",
   "execution_count": 29,
   "id": "00891ca0",
   "metadata": {
    "scrolled": true
   },
   "outputs": [
    {
     "data": {
      "text/plain": [
       "[595, 280, 438, 459, 394, 275, 371, 99, 340, 308, 606, 497, 443, 276, 336, 355]"
      ]
     },
     "execution_count": 29,
     "metadata": {},
     "output_type": "execute_result"
    }
   ],
   "source": [
    "'''\n",
    "\n",
    "Our output list is ordered such that we permutate through all doublets starting with A, then doublets\n",
    "starting with C, then with T, and finally with G. Thus, our list is ordered such that it represents the\n",
    "counts for [AA, AC, AT, AG, CA, CC, CT, CG, TA, ...]\n",
    "\n",
    "'''\n",
    "\n",
    "motif_permutator(human_seq)"
   ]
  },
  {
   "cell_type": "code",
   "execution_count": 24,
   "id": "c6a899b2",
   "metadata": {},
   "outputs": [],
   "source": [
    "#For drosophila orthologue csw\n",
    "drosophila_seq = loadFASTA2(\"../QBIO 401/drosophila_sequence.fasta\")"
   ]
  },
  {
   "cell_type": "code",
   "execution_count": 26,
   "id": "af9d0d8b",
   "metadata": {},
   "outputs": [
    {
     "data": {
      "text/plain": [
       "[2395, 1876, 1718, 1675]"
      ]
     },
     "execution_count": 26,
     "metadata": {},
     "output_type": "execute_result"
    }
   ],
   "source": [
    "count_bases(drosophila_seq)"
   ]
  },
  {
   "cell_type": "code",
   "execution_count": 28,
   "id": "61062195",
   "metadata": {},
   "outputs": [
    {
     "data": {
      "text/plain": [
       "[870,\n",
       " 521,\n",
       " 523,\n",
       " 481,\n",
       " 621,\n",
       " 452,\n",
       " 348,\n",
       " 455,\n",
       " 404,\n",
       " 402,\n",
       " 495,\n",
       " 416,\n",
       " 499,\n",
       " 501,\n",
       " 352,\n",
       " 323]"
      ]
     },
     "execution_count": 28,
     "metadata": {},
     "output_type": "execute_result"
    }
   ],
   "source": [
    "'''\n",
    "\n",
    "Our output list is ordered such that we permutate through all doublets starting with A, then doublets\n",
    "starting with C, then with T, and finally with G. Thus, our list is ordered such that it represents the\n",
    "counts for [AA, AC, AT, AG, CA, CC, CT, CG, TA, ...]\n",
    "\n",
    "'''\n",
    "\n",
    "motif_permutator(drosophila_seq)"
   ]
  },
  {
   "cell_type": "markdown",
   "id": "594bb607",
   "metadata": {},
   "source": [
    "In a “markdown” cell answer the following question:\n",
    "Since humans have much higher rates of methylation than Drosophila, we would expect\n",
    "to see far fewer CpGs in humans (we will discuss this topic soon in lecture). Is this what\n",
    "we see?\n",
    "\n",
    "Based on our outputs for the drosophila and human sequences, it seems that this hypothesis holds. Based on the ordering system for our motif_permutator function output, the eight index of each list represents the count for the \"CG\" motif. The human sequence contains 99 instances of \"CG\" compared to 455 instances for the drosophila sequence. "
   ]
  }
 ],
 "metadata": {
  "kernelspec": {
   "display_name": "Python 3 (ipykernel)",
   "language": "python",
   "name": "python3"
  },
  "language_info": {
   "codemirror_mode": {
    "name": "ipython",
    "version": 3
   },
   "file_extension": ".py",
   "mimetype": "text/x-python",
   "name": "python",
   "nbconvert_exporter": "python",
   "pygments_lexer": "ipython3",
   "version": "3.9.12"
  }
 },
 "nbformat": 4,
 "nbformat_minor": 5
}
