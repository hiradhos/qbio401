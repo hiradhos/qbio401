{
 "cells": [
  {
   "cell_type": "markdown",
   "id": "fe795a2f",
   "metadata": {},
   "source": [
    "# QBIO 401 Homework 2\n",
    "## Hirad Hosseini, Fall 2023"
   ]
  },
  {
   "cell_type": "markdown",
   "id": "a66ca3e3",
   "metadata": {},
   "source": [
    "Task 1:\n",
    "\n",
    "Write a Python function that for each of the positions in the read (1 to 250) will\n",
    "compute the fraction of reads in the file with quality scores greater than or equal to 30\n",
    "at that position. Plot the output for each file (read position on the x-axis, fraction of\n",
    "reads on the y-axis). Put these two plots (one for read #1 and the second for read #2)\n",
    "on the same figure (use different colors for read #1 and read #2) so that you can easily\n",
    "compare read #1 and read #2."
   ]
  },
  {
   "cell_type": "code",
   "execution_count": 8,
   "id": "9e7e6cf3",
   "metadata": {},
   "outputs": [],
   "source": [
    "sample_file_name = \"XI1_ATCACG_L001_R1_001.fastq\"\n",
    "\n",
    "def read_down(file_name, read_len, quality_threshold):\n",
    "    q_scores = [0] * read_len\n",
    "    read_count = 0\n",
    "    line_count = 0\n",
    "    with open(file_name ,\"r\") as f_in:\n",
    "        for line in f_in:\n",
    "            line_count += 1\n",
    "            if line_count % 4 == 0:\n",
    "                read_count += 1\n",
    "                temp = f_in.readline()\n",
    "                temp = temp.replace(\"\\n\",\"\")\n",
    "                for i in range(read_len):\n",
    "                    if ord(temp[i]) - 33 >= 30:\n",
    "                        q_scores[i] += 1\n",
    "        for count in q_scores:\n",
    "            q_scores[count] = q_scores[count] / read_count\n",
    "    return q_scores\n",
    "\n",
    "hey = read_down(sample_file_name, 250, 30)\n",
    "print(hey)"
   ]
  },
  {
   "cell_type": "code",
   "execution_count": null,
   "id": "9b9179f8",
   "metadata": {},
   "outputs": [],
   "source": []
  }
 ],
 "metadata": {
  "kernelspec": {
   "display_name": "Python 3 (ipykernel)",
   "language": "python",
   "name": "python3"
  },
  "language_info": {
   "codemirror_mode": {
    "name": "ipython",
    "version": 3
   },
   "file_extension": ".py",
   "mimetype": "text/x-python",
   "name": "python",
   "nbconvert_exporter": "python",
   "pygments_lexer": "ipython3",
   "version": "3.9.12"
  }
 },
 "nbformat": 4,
 "nbformat_minor": 5
}
