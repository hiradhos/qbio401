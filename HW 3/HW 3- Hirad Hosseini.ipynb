{
 "cells": [
  {
   "cell_type": "markdown",
   "id": "d8e89e0d",
   "metadata": {},
   "source": [
    "# QBIO 401 Homework 3\n",
    "## Hirad Hosseini, Fall 2023"
   ]
  },
  {
   "cell_type": "markdown",
   "id": "ab5e4a51",
   "metadata": {},
   "source": [
    "Part 1. This task does not require programming."
   ]
  },
  {
   "cell_type": "markdown",
   "id": "cc5be9ca",
   "metadata": {},
   "source": [
    "On Blackboard, the file “somehuman.fasta” has 7 human genes and the file\n",
    "“somechicken.fasta” has 7 chicken genes (chromosomes labeled in both files). Use (protein)\n",
    "BLAST to align the human genes to the chicken genome (in “Choose Search Set” and\n",
    "“Organism” select “chicken (taxid:9031)”). Likewise, use (protein) BLAST to align the chicken\n",
    "genes to the human genome (in “Choose Search Set” and “Organism” select “human\n",
    "(taxid:9606)”). For each of the genes, follow the links for the best match to find the\n",
    "chromosome of the best match in the other species. This information is under “FEATURES” in\n",
    "(lower case) “source”.\n",
    "\n",
    "For each gene, write down the following information in a table:\n",
    "1. Gene name (human gene 1-7, chicken gene 1-7)\n",
    "2. Chromosome number of gene\n",
    "3. Chromosome number of best match in other species"
   ]
  },
  {
   "cell_type": "markdown",
   "id": "e9fdf7d4",
   "metadata": {},
   "source": [
    "|Gene Name |Chromosome number of gene|Chromosome number of best match in other species |\n",
    "|-----|:-----:|:---:|\n",
    "|Human Gene 1 |5|Z|\n",
    "|Human Gene 2|5|Z|\n",
    "|Human Gene 3|9|Z|\n",
    "|Human Gene 4|9|Z|\n",
    "|Human Gene 5|X|1|\n",
    "|Human Gene 6|X|1|\n",
    "|Human Gene 7|X|4|\n",
    "|Chicken Gene 1|1|22|\n",
    "|Chicken Gene 2|1|X|\n",
    "|Chicken Gene 3|1|X|\n",
    "|Chicken Gene 4|4|X|\n",
    "|Chicken Gene 5|Z|5|\n",
    "|Chicken Gene 6|Z|9|\n",
    "|Chicken Gene 7|Z|5|\n"
   ]
  },
  {
   "cell_type": "markdown",
   "id": "4afff604",
   "metadata": {},
   "source": [
    "Based on this information, do you think the human chromosome X and the chicken\n",
    "chromosome Z are homologous?\n",
    "\n",
    "No, it does not appear that human chromosome X is homologous to chicken chromosome Z because the best chicken chromosomal homology matches for the X human chromosome are chicken chromosomes 1 and 4, whereas the best human chromosomal homology matches for the Z chicken chromosome are human chromosomes 5 and 9. If these sex chromosomes were to be homologous, we would expect that the human X chromosome would align with the chicken Z chromosome when using protein BLAST. Instead, we observe different alignments which indicate that the sex-determination chromosomes on these species host different genes that encode non-homologous proteins with different functions. "
   ]
  },
  {
   "cell_type": "markdown",
   "id": "b582c314",
   "metadata": {},
   "source": [
    "Part 2. \n",
    "\n",
    "This part does involve computer programming\n",
    "\n",
    "\n",
    "The codons “AAA” and “AAG” both code for the amino acid Lysine (K). Write a Python\n",
    "function that takes as input a sequence string which starts with the start codon and ends with\n",
    "an in-frame stop codon. Your function returns the number of times the codon “AAA” is used\n",
    "and the number of times the codon “AAG” is used."
   ]
  },
  {
   "cell_type": "code",
   "execution_count": 23,
   "id": "7bb24a8d",
   "metadata": {},
   "outputs": [
    {
     "name": "stdout",
     "output_type": "stream",
     "text": [
      "Drosophila melanogaster csw lysine codon counts [AAA, AAG]: [9, 39]\n",
      "Homo sapiens PTPN11 lysine codon counts [AAA, AAG]: [31, 14]\n"
     ]
    }
   ],
   "source": [
    "def lysine_codon_counter(file_name):\n",
    "    codon_counts = [0] * 2 #index 0 -> AAA, index 1 -> AAG\n",
    "    with open(file_name, 'r') as f_in: #FASTA file could be read in manually shown here or using loadFASTA() function from class\n",
    "        header = f_in.readline() #reads in header file, not the actual sequence yet\n",
    "        seq = f_in.readlines()\n",
    "        seq = \"\\n\".join(seq)\n",
    "        seq = seq.replace(\"\\n\",\"\")\n",
    "        for i in range(0, len(seq), 3):\n",
    "            if seq[i:i+3] == \"AAA\":\n",
    "                codon_counts[0] += 1\n",
    "            elif seq[i:i+3] == \"AAG\":\n",
    "                codon_counts[1] += 1\n",
    "    return codon_counts \n",
    "\n",
    "csw_file_name = \"codingcsw.txt\"\n",
    "print(f\"Drosophila melanogaster csw lysine codon counts [AAA, AAG]: {lysine_codon_counter(csw_file_name)}\")\n",
    "ptpn_file_name = \"codingPTPN11.txt\"\n",
    "print(f\"Homo sapiens PTPN11 lysine codon counts [AAA, AAG]: {lysine_codon_counter(ptpn_file_name)}\")        "
   ]
  },
  {
   "cell_type": "markdown",
   "id": "d95aa981",
   "metadata": {},
   "source": [
    "Turn in a pdf of a Jupyter notebook with your code and the outputs of the function for\n",
    "the two files (codingPTPN11.txt and codingcsw.txt). Also answer the following questions (you\n",
    "do not need to do statistical tests). \n",
    "\n",
    "Does the codon usage for “AAA” and “AAG” appear different\n",
    "for the two files? Does the codon usage for “AAA” and “AAG” in the two files seem typical of\n",
    "the codon usage in the full human and Drosophila genomes?\n",
    "\n",
    "Yes, the codon usage for AAA and AAG appear to differ for the csw region of Drosophila compared to the PTPN11 region of homo sapies, as AAG is more prevalent in Drosophila and AAA is more prevalent in Homo sapiens. The lysine codon usage for Drosophila as observed in our analysis is similar to that observed for the full Drosophila genome. The AAA frequency of 9/48 = 0.1875 is close to the genome-wide Drosophila AAA frequency of 0.29 (and thus the same case for AAG in Drosophila). However, the lysine codon usage for Homo sapiens as observed in our analysis differs from that observed for the full Homo sapiens genome. In fact, the AAA codon is far more prevalent in the PTPN11 region (31/45 = 0.69) whereas it is the minority lysine codon across the entire Homo sapiens genome (0.42). Therefore, there is a discrepancy between the lysine codon usage in the PTPN11 region compared to the entire Homo sapiens genome.    \n"
   ]
  }
 ],
 "metadata": {
  "kernelspec": {
   "display_name": "Python 3 (ipykernel)",
   "language": "python",
   "name": "python3"
  },
  "language_info": {
   "codemirror_mode": {
    "name": "ipython",
    "version": 3
   },
   "file_extension": ".py",
   "mimetype": "text/x-python",
   "name": "python",
   "nbconvert_exporter": "python",
   "pygments_lexer": "ipython3",
   "version": "3.9.12"
  }
 },
 "nbformat": 4,
 "nbformat_minor": 5
}
