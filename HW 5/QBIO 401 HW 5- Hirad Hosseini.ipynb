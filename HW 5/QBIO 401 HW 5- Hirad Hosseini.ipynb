{
 "cells": [
  {
   "cell_type": "markdown",
   "id": "c4f62088",
   "metadata": {},
   "source": [
    "# QBIO 401 Homework 5\n",
    "## Hirad Hosseini, Fall 2023"
   ]
  },
  {
   "cell_type": "markdown",
   "id": "afa9cb23",
   "metadata": {},
   "source": [
    "<strong>Write a Python function (or functions) to find all the ORFs in a sequence string.\n",
    "Since we are only interested in relatively long ORFs, the function should only return\n",
    "those ORFs longer than an input threshold value. Compute the length of an ORF as the\n",
    "number of codons (counting the start and stop codon), and compare this length to the\n",
    "input threshold value (see Example 1 below).</strong>\n",
    "\n",
    "The start codon is “ATG”. The stop codons are “TAG”, “TAA”, and “TGA”. “ATG” also\n",
    "codes for the amino acid methionine. So if there are multiple ORFs with the same stop\n",
    "codon, only return the longest ORF (see Example 2 below).\n",
    "\n",
    "The inputs to the function should be the sequence string and the threshold value. The\n",
    "output should be a list of lists. The length of the list should be the number of ORFs. Each\n",
    "element of the list should be another list with two numbers describing an individual ORF:\n",
    "the nucleotide position of the first position of the start codon and the nucleotide position\n",
    "of the first position of the in-frame stop codon.\n",
    "\n",
    "Use the “loadFASTA” function from “lecture2functions.py” to import the data in the file\n",
    "“coronavirus.fasta” which I have posted on Blackboard as part of this Assignment. Apply\n",
    "your new ORF-finding function with a threshold value of 100 find all the ORFs. Also, I\n",
    "have copied the functions from the “lecture2notebook” into the file\n",
    "“reversecomplement.py”. Use the “revcomp” function to find all the ORFs (if there are\n",
    "any) on the reverse strand. Turn in a pdf of a Jupyter notebook with your code and the\n",
    "outputs of this code.\n",
    "\n",
    "Note: if you compare your answers to websites listing coronavirus genes there will not be\n",
    "complete agreement since (1) genes are different than ORFs, and (2) some of the genes\n",
    "are shorter than our threshold of 100 codons."
   ]
  },
  {
   "cell_type": "code",
   "execution_count": 1,
   "id": "84163b5b",
   "metadata": {},
   "outputs": [],
   "source": [
    "from lecture2functions import loadFASTA\n",
    "from reversecomplement import revcomp"
   ]
  },
  {
   "cell_type": "code",
   "execution_count": 2,
   "id": "2582a0f3",
   "metadata": {},
   "outputs": [],
   "source": [
    "def orf_finder(seq: str, threshold_value: int) -> list:\n",
    "    orf = []\n",
    "    orf_termini = []\n",
    "    for i in range(len(seq)-3):\n",
    "        if seq[i:i+3] == \"ATG\":\n",
    "            truncated_seq = seq[i+3:]\n",
    "            seq_len = 3\n",
    "            j = 0\n",
    "            while j <= len(truncated_seq) - 2:\n",
    "                if truncated_seq[j:j+3] in [\"TAG\", \"TAA\", \"TGA\"]:\n",
    "                    if ((seq_len + 3)/3) > threshold_value:\n",
    "                        if (i + j + 6) not in orf_termini:\n",
    "                            orf.append([i, j + i + 6])\n",
    "                            orf_termini.append(j + i + 6)\n",
    "                        break\n",
    "                    break    \n",
    "                seq_len += 3\n",
    "                j += 3\n",
    "    return orf"
   ]
  },
  {
   "cell_type": "code",
   "execution_count": 3,
   "id": "25d69139",
   "metadata": {},
   "outputs": [
    {
     "name": "stdout",
     "output_type": "stream",
     "text": [
      "There are 8 open reading frame(s).\n",
      "Here are the open reading frames: [[265, 13483], [13767, 21555], [21535, 25384], [25392, 26220], [26522, 27191], [27393, 27759], [27893, 28259], [28273, 29533]]\n"
     ]
    }
   ],
   "source": [
    "file_name = \"coronavirus.fasta\"\n",
    "seq = loadFASTA(file_name)\n",
    "print(f\"There are {len(orf_finder(seq, 100))} open reading frame(s).\")\n",
    "print(\"Here are the open reading frames: \", end = \"\")  \n",
    "print(orf_finder(seq, 100))"
   ]
  },
  {
   "cell_type": "code",
   "execution_count": 4,
   "id": "0fb839c5",
   "metadata": {},
   "outputs": [
    {
     "name": "stdout",
     "output_type": "stream",
     "text": [
      "There are 1 open reading frame(s).\n",
      "Here are the open reading frames: [[23414, 23717]]\n"
     ]
    }
   ],
   "source": [
    "rev_seq = revcomp(seq)\n",
    "print(f\"There are {len(orf_finder(rev_seq, 100))} open reading frame(s).\")\n",
    "print(\"Here are the open reading frames: \", end = \"\")  \n",
    "print(orf_finder(rev_seq, 100))"
   ]
  }
 ],
 "metadata": {
  "kernelspec": {
   "display_name": "Python 3 (ipykernel)",
   "language": "python",
   "name": "python3"
  },
  "language_info": {
   "codemirror_mode": {
    "name": "ipython",
    "version": 3
   },
   "file_extension": ".py",
   "mimetype": "text/x-python",
   "name": "python",
   "nbconvert_exporter": "python",
   "pygments_lexer": "ipython3",
   "version": "3.9.12"
  }
 },
 "nbformat": 4,
 "nbformat_minor": 5
}
